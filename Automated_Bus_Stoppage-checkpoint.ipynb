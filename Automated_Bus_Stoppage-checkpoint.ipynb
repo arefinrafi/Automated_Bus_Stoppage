{
 "cells": [
  {
   "cell_type": "code",
   "execution_count": 2,
   "metadata": {},
   "outputs": [
    {
     "ename": "ModuleNotFoundError",
     "evalue": "No module named 'RPi'",
     "output_type": "error",
     "traceback": [
      "\u001b[1;31m---------------------------------------------------------------------------\u001b[0m",
      "\u001b[1;31mModuleNotFoundError\u001b[0m                       Traceback (most recent call last)",
      "\u001b[1;32m<ipython-input-2-182235789dcf>\u001b[0m in \u001b[0;36m<module>\u001b[1;34m\u001b[0m\n\u001b[1;32m----> 1\u001b[1;33m \u001b[1;32mimport\u001b[0m \u001b[0mRPi\u001b[0m\u001b[1;33m.\u001b[0m\u001b[0mGPIO\u001b[0m \u001b[1;32mas\u001b[0m \u001b[0mGPIO\u001b[0m\u001b[1;33m\u001b[0m\u001b[1;33m\u001b[0m\u001b[0m\n\u001b[0m\u001b[0;32m      2\u001b[0m \u001b[1;32mimport\u001b[0m \u001b[0mserial\u001b[0m\u001b[1;33m\u001b[0m\u001b[1;33m\u001b[0m\u001b[0m\n\u001b[0;32m      3\u001b[0m \u001b[1;32mimport\u001b[0m \u001b[0mtime\u001b[0m\u001b[1;33m\u001b[0m\u001b[1;33m\u001b[0m\u001b[0m\n\u001b[0;32m      4\u001b[0m \u001b[1;32mfrom\u001b[0m \u001b[0mpymongo\u001b[0m \u001b[1;32mimport\u001b[0m \u001b[0mMongoClient\u001b[0m\u001b[1;33m\u001b[0m\u001b[1;33m\u001b[0m\u001b[0m\n\u001b[0;32m      5\u001b[0m \u001b[1;32mimport\u001b[0m \u001b[0mdatetime\u001b[0m\u001b[1;33m\u001b[0m\u001b[1;33m\u001b[0m\u001b[0m\n",
      "\u001b[1;31mModuleNotFoundError\u001b[0m: No module named 'RPi'"
     ]
    }
   ],
   "source": [
    "import RPi.GPIO as GPIO\n",
    "import serial\n",
    "import time\n",
    "from pymongo import MongoClient\n",
    "import datetime"
   ]
  },
  {
   "cell_type": "code",
   "execution_count": 2,
   "metadata": {},
   "outputs": [],
   "source": [
    "s2 = 38\n",
    "s3 = 36\n",
    "motion_data = 32\n",
    "light = 37\n",
    "signal = 40\n",
    "NUM_CYCLES = 10\n",
    "red_arr = []\n",
    "green_arr = []\n",
    "blue_arr = []\n",
    "\n",
    "port = serial.Serial(\"/dev/ttyAMA0\",baudrate=9600,timeout=1)\n",
    "phone_number = '+8800011001100'"
   ]
  },
  {
   "cell_type": "code",
   "execution_count": 3,
   "metadata": {},
   "outputs": [],
   "source": [
    "def setup():\n",
    "    GPIO.setmode(GPIO.BOARD)\n",
    "    GPIO.setup(signal,GPIO.IN, pull_up_down=GPIO.PUD_UP)\n",
    "    GPIO.setup(s2,GPIO.OUT)\n",
    "    GPIO.setup(s3,GPIO.OUT)\n",
    "    GPIO.setup(motion_data,GPIO.IN)\n",
    "    GPIO.setup(light,GPIO.OUT)\n",
    "    print(\"\\n\") "
   ]
  },
  {
   "cell_type": "code",
   "execution_count": 4,
   "metadata": {},
   "outputs": [],
   "source": [
    "def loop():\n",
    "    temp = 1\n",
    "    t = 20\n",
    "    i = 0\n",
    "    while(i < t):  \n",
    "        \n",
    "\n",
    "        GPIO.output(s2,GPIO.LOW)\n",
    "        GPIO.output(s3,GPIO.LOW)\n",
    "#         time.sleep(0.3)\n",
    "        start = time.time()\n",
    "        for impulse_count in range(NUM_CYCLES):\n",
    "            GPIO.wait_for_edge(signal, GPIO.FALLING)\n",
    "        duration = time.time() - start \n",
    "        red  = NUM_CYCLES / duration   \n",
    "\n",
    "        GPIO.output(s2,GPIO.LOW)\n",
    "        GPIO.output(s3,GPIO.HIGH)\n",
    "#         time.sleep(0.3)\n",
    "        start = time.time()\n",
    "        for impulse_count in range(NUM_CYCLES):\n",
    "            GPIO.wait_for_edge(signal, GPIO.FALLING)\n",
    "        duration = time.time() - start\n",
    "        blue = NUM_CYCLES / duration\n",
    "\n",
    "\n",
    "        GPIO.output(s2,GPIO.HIGH)\n",
    "        GPIO.output(s3,GPIO.HIGH)\n",
    "#         time.sleep(0.3)\n",
    "        start = time.time()\n",
    "        for impulse_count in range(NUM_CYCLES):\n",
    "            GPIO.wait_for_edge(signal, GPIO.FALLING)\n",
    "        duration = time.time() - start\n",
    "        green = NUM_CYCLES / duration\n",
    "\n",
    "       # print(red,green,blue)\n",
    "        red_arr.append(red)\n",
    "        green_arr.append(green)\n",
    "        blue_arr.append(blue)\n",
    "#         print('RED: ',red,' GREEN: ',green,' BLUE:',blue)\n",
    "#         time.sleep(0.2)\n",
    "#         print(i)\n",
    "        i += 1"
   ]
  },
  {
   "cell_type": "code",
   "execution_count": 5,
   "metadata": {},
   "outputs": [],
   "source": [
    "def endprogram():\n",
    "    GPIO.cleanup()"
   ]
  },
  {
   "cell_type": "code",
   "execution_count": 6,
   "metadata": {},
   "outputs": [],
   "source": [
    "def send_sms():\n",
    "    \n",
    "    import os, time\n",
    "\n",
    "    #GPIO.setmode(GPIO.BOARD)    \n",
    "\n",
    "    # Enable Serial Communication\n",
    "    port = serial.Serial(\"/dev/ttyS0\", baudrate=9600, timeout=1)\n",
    "\n",
    "    # Transmitting AT Commands to the Modem\n",
    "    # '\\r\\n' indicates the Enter key\n",
    "\n",
    "    port.write(str.encode('AT'+'\\r\\n'))\n",
    "    rcv = port.read(10)\n",
    "#     print (rcv)\n",
    "    time.sleep(1)\n",
    "\n",
    "    port.write(str.encode('ATE0'+'\\r\\n'))      # Disable the Echo\n",
    "    rcv = port.read(10)\n",
    "#     print (rcv)\n",
    "    time.sleep(1)\n",
    "\n",
    "    port.write(str.encode('AT+CMGF=1'+'\\r\\n'))  # Select Message format as Text mode \n",
    "    rcv = port.read(10)\n",
    "#     print (rcv)\n",
    "    time.sleep(1)\n",
    "\n",
    "    port.write(str.encode('AT+CNMI=2,1,0,0,0'+'\\r\\n'))   # New SMS Message Indications\n",
    "    rcv = port.read(10)\n",
    "#     print (rcv)\n",
    "    time.sleep(1)\n",
    "\n",
    "    # Sending a message to a particular Number\n",
    "\n",
    "    port.write(str.encode('AT+CMGS=\"+8800011001100\"'+'\\r\\n')) #rafi robi\n",
    "    rcv = port.read(10)\n",
    "#     print (rcv)\n",
    "    time.sleep(1)\n",
    "\n",
    "    port.write(str.encode('You are fined 100/- for unauthorized passenger pickup or something else...'+'\\r\\n'))  # Message\n",
    "    rcv = port.read(10)\n",
    "#     print (rcv)\n",
    "\n",
    "    port.write(str.encode(\"\\x1A\")) # Enable to send SMS\n",
    "    for i in range(10):\n",
    "        rcv = port.read(10)\n",
    "#         print (rcv)"
   ]
  },
  {
   "cell_type": "code",
   "execution_count": 7,
   "metadata": {},
   "outputs": [],
   "source": [
    "def upload_data_cloud():\n",
    "    client = MongoClient(\"mongodb+srv://.........\") #server link\n",
    "    database = client.get_database('Vehicle_fine')\n",
    "    fies = database.fies1\n",
    "    \n",
    "    data = {\n",
    "        'time'   : datetime.datetime.now(),\n",
    "        'amount' : 100, \n",
    "        'phone_no':phone_number\n",
    "    }\n",
    "    fies.insert_one(data)"
   ]
  },
  {
   "cell_type": "code",
   "execution_count": 1,
   "metadata": {},
   "outputs": [
    {
     "ename": "NameError",
     "evalue": "name 'setup' is not defined",
     "output_type": "error",
     "traceback": [
      "\u001b[1;31m---------------------------------------------------------------------------\u001b[0m",
      "\u001b[1;31mNameError\u001b[0m                                 Traceback (most recent call last)",
      "\u001b[1;32m<ipython-input-1-83741baad424>\u001b[0m in \u001b[0;36m<module>\u001b[1;34m\u001b[0m\n\u001b[1;32m----> 1\u001b[1;33m \u001b[0msetup\u001b[0m\u001b[1;33m(\u001b[0m\u001b[1;33m)\u001b[0m\u001b[1;33m\u001b[0m\u001b[1;33m\u001b[0m\u001b[0m\n\u001b[0m\u001b[0;32m      2\u001b[0m \u001b[1;32mtry\u001b[0m\u001b[1;33m:\u001b[0m\u001b[1;33m\u001b[0m\u001b[1;33m\u001b[0m\u001b[0m\n\u001b[0;32m      3\u001b[0m     \u001b[1;32mwhile\u001b[0m \u001b[1;32mTrue\u001b[0m\u001b[1;33m:\u001b[0m\u001b[1;33m\u001b[0m\u001b[1;33m\u001b[0m\u001b[0m\n\u001b[0;32m      4\u001b[0m         \u001b[1;32mif\u001b[0m \u001b[0mGPIO\u001b[0m\u001b[1;33m.\u001b[0m\u001b[0minput\u001b[0m\u001b[1;33m(\u001b[0m\u001b[0mmotion_data\u001b[0m\u001b[1;33m)\u001b[0m \u001b[1;33m==\u001b[0m \u001b[1;36m0\u001b[0m\u001b[1;33m:\u001b[0m\u001b[1;33m\u001b[0m\u001b[1;33m\u001b[0m\u001b[0m\n\u001b[0;32m      5\u001b[0m             \u001b[0mloop\u001b[0m\u001b[1;33m(\u001b[0m\u001b[1;33m)\u001b[0m\u001b[1;33m\u001b[0m\u001b[1;33m\u001b[0m\u001b[0m\n",
      "\u001b[1;31mNameError\u001b[0m: name 'setup' is not defined"
     ]
    }
   ],
   "source": [
    "setup()\n",
    "try:\n",
    "    while True:\n",
    "        if GPIO.input(motion_data) == 0:\n",
    "            loop()\n",
    "            \n",
    "            avg_r = sum(red_arr) / len(red_arr)\n",
    "            avg_g = sum(green_arr) / len(green_arr)\n",
    "            avg_b = sum(blue_arr) / len(blue_arr) \n",
    "            print(\"RED: \",avg_r,\"GREEN: \",avg_g,\"BLUE: \",avg_b)\n",
    "            \n",
    "            red_min = 23000 #1000\n",
    "            red_max =  29002  #1410\n",
    "            green_min = 25000 #750\n",
    "            green_max = 37000 #1050\n",
    "            blue_min = 24000 #500\n",
    "            blue_max = 29000 #750\n",
    "            \n",
    "            if avg_r < red_max and avg_r > red_min and avg_g < green_max and avg_g > green_min and avg_b < blue_max and avg_b > blue_min:\n",
    "                print(\"Bus Stoped At The Right Place\")\n",
    "            else:\n",
    "                print(\"JORIMANA KOR !!!!!!!!!!\")\n",
    "#                 send_sms()\n",
    "                upload_data_cloud()\n",
    "                print(\"SMS SENT\")\n",
    "                print(\"Data updated to cloud.\")\n",
    "                print(\"Going to sleep...\")\n",
    "                time.sleep(10)\n",
    "            # Clear red,green,blue array\n",
    "            red_arr.clear()\n",
    "            green_arr.clear()\n",
    "            blue_arr.clear()\n",
    "        else:\n",
    "            print(\"No one passed.\")\n",
    "except Exception as e:\n",
    "    print(e)"
   ]
  },
  {
   "cell_type": "code",
   "execution_count": null,
   "metadata": {},
   "outputs": [],
   "source": []
  }
 ],
 "metadata": {
  "kernelspec": {
   "display_name": "Python 3",
   "language": "python",
   "name": "python3"
  },
  "language_info": {
   "codemirror_mode": {
    "name": "ipython",
    "version": 3
   },
   "file_extension": ".py",
   "mimetype": "text/x-python",
   "name": "python",
   "nbconvert_exporter": "python",
   "pygments_lexer": "ipython3",
   "version": "3.7.3"
  }
 },
 "nbformat": 4,
 "nbformat_minor": 2
}
